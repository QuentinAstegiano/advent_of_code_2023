{
 "cells": [
  {
   "cell_type": "code",
   "execution_count": 22,
   "metadata": {},
   "outputs": [],
   "source": [
    "import pandas as pd\n",
    "\n",
    "df = pd.read_csv(\"../data/day_1__data.csv\",\n",
    "                 header=None,\n",
    "                 names=[\"lines\"])\n",
    "\n",
    "input = df[\"lines\"].to_list()\n"
   ]
  },
  {
   "cell_type": "code",
   "execution_count": 25,
   "metadata": {},
   "outputs": [],
   "source": [
    "litterals = [ \"one\", \"two\", \"three\", \"four\", \"five\", \"six\", \"seven\", \"eight\", \"nine\" ]\n",
    "\n",
    "def get_litteral_number_at_index(line: list, index: int) -> int:\n",
    "    for as_num, lit in enumerate(litterals):\n",
    "        value = line[index:index + len(lit)]\n",
    "        if value == lit:\n",
    "            return as_num + 1\n",
    "    return None\n",
    "\n",
    "def get_numeric_number_at_index(line: list, index: int) -> int:\n",
    "    if line[index].isnumeric():\n",
    "        return int(line[index])\n",
    "\n",
    "    return None\n",
    "\n",
    "def get_number_at_index(line: list, index: int) -> int:\n",
    "    number = get_numeric_number_at_index(line, index)\n",
    "    if number is None:\n",
    "        number = get_litteral_number_at_index(line, index)\n",
    "    \n",
    "    return number\n",
    "\n",
    "def get_relevant_numbers(line: list) -> int:\n",
    "    first = None\n",
    "    last = None\n",
    "    for i in range(len(line)):\n",
    "        number = get_number_at_index(line, i)\n",
    "        if number is not None:\n",
    "            if first is None:\n",
    "                first = number\n",
    "            last = number\n",
    "    if first is None:\n",
    "        return 0\n",
    "    else:\n",
    "        return int(str(first) + str(last))\n"
   ]
  },
  {
   "cell_type": "code",
   "execution_count": 26,
   "metadata": {},
   "outputs": [
    {
     "name": "stdout",
     "output_type": "stream",
     "text": [
      "56299\n"
     ]
    }
   ],
   "source": [
    "sum = 0\n",
    "for line in input:\n",
    "    relevant = get_relevant_numbers(line)\n",
    "    sum += relevant\n",
    "\n",
    "print(sum)"
   ]
  }
 ],
 "metadata": {
  "kernelspec": {
   "display_name": "Python 3",
   "language": "python",
   "name": "python3"
  },
  "language_info": {
   "codemirror_mode": {
    "name": "ipython",
    "version": 3
   },
   "file_extension": ".py",
   "mimetype": "text/x-python",
   "name": "python",
   "nbconvert_exporter": "python",
   "pygments_lexer": "ipython3",
   "version": "3.10.12"
  }
 },
 "nbformat": 4,
 "nbformat_minor": 2
}
