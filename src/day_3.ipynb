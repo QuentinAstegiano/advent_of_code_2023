{
 "cells": [
  {
   "cell_type": "code",
   "execution_count": 1,
   "metadata": {},
   "outputs": [
    {
     "name": "stdout",
     "output_type": "stream",
     "text": [
      "['467..114..', '...*......', '..35..633.', '......#...', '617*......', '.....+.58.', '..592.....', '......755.', '...$.*....', '.664.598..']\n"
     ]
    }
   ],
   "source": [
    "lines = []\n",
    "\n",
    "with open(\"../data/day_3__sample.txt\", \"r\") as file:\n",
    "    for line in file.readlines():\n",
    "        lines.append(line.replace('\\n', ''))\n",
    "\n",
    "print(lines)"
   ]
  },
  {
   "cell_type": "code",
   "execution_count": 2,
   "metadata": {},
   "outputs": [],
   "source": [
    "from dataclasses import dataclass\n",
    "\n",
    "@dataclass\n",
    "class Coord:\n",
    "    x: int\n",
    "    y: int\n",
    "\n",
    "    def __init(self, x: int, y: int):\n",
    "        self.x = x\n",
    "        self.y = y"
   ]
  },
  {
   "cell_type": "code",
   "execution_count": 4,
   "metadata": {},
   "outputs": [],
   "source": [
    "from enum import Enum\n",
    "\n",
    "class CellType(Enum):\n",
    "    NUMBER = 1,\n",
    "    DOT = 2,\n",
    "    SYMBOL = 3\n",
    "\n",
    "    @classmethod\n",
    "    def from_cell(cls, cell):\n",
    "        if cell.isnumeric():\n",
    "            return CellType.NUMBER\n",
    "        elif cell == '.':\n",
    "            return CellType.DOT\n",
    "        else:\n",
    "            return CellType.SYMBOL"
   ]
  },
  {
   "cell_type": "code",
   "execution_count": 5,
   "metadata": {},
   "outputs": [
    {
     "name": "stdout",
     "output_type": "stream",
     "text": [
      "467..114.. []\n",
      "...*...... []\n",
      "..35..633. [633]\n",
      "......#... []\n",
      "617*...... []\n",
      ".....+.58. []\n",
      "..592..... [592]\n",
      "......755. []\n",
      "...$.*.... []\n",
      ".664.598.. [664]\n",
      "1889\n"
     ]
    }
   ],
   "source": [
    "def is_valid_coord(coord: Coord, min: Coord, max: Coord) -> bool:\n",
    "    return coord.x >= min.x and coord.x < max.x and coord.y >= min.y and coord.y < max.y\n",
    "\n",
    "def get_adjacent_coords(coord: Coord, min: Coord, max: Coord) -> list: \n",
    "    adjacents = []\n",
    "    for i in range(-1, 2):\n",
    "        for j in range(-1, 2):\n",
    "            adjacent = Coord(coord.x + i, coord.y + j)\n",
    "            if is_valid_coord(adjacent, min, max):\n",
    "                adjacents.append(adjacent)\n",
    "    return adjacents\n",
    "\n",
    "def get_valid_numbers(lines: list) -> list:\n",
    "    valids = []\n",
    "    current_number = None\n",
    "    valid = False\n",
    "\n",
    "    min = Coord(0, 0)\n",
    "    max = Coord(len(lines), len(lines[0]))\n",
    "\n",
    "    for line_index, line in enumerate(lines):\n",
    "        valids_on_line = []\n",
    "        for cell_index, cell in enumerate(line):\n",
    "            cell_type = CellType.from_cell(cell)\n",
    "            if cell_type == CellType.NUMBER:\n",
    "                if current_number == None:\n",
    "                    current_number = cell\n",
    "                else:\n",
    "                    current_number += cell\n",
    "                if not valid:\n",
    "                    adjacents = get_adjacent_coords(Coord(line_index, cell_index), min, max)\n",
    "                    for a in adjacents:\n",
    "                        adj_type = CellType.from_cell(lines[a.x][a.y])\n",
    "                        if adj_type == CellType.SYMBOL:\n",
    "                            valid = True\n",
    "                            break\n",
    "            else:\n",
    "                if current_number is not None:\n",
    "                    if valid:\n",
    "                        valids_on_line.append(int(current_number))\n",
    "                    current_number = None\n",
    "                    valid = False\n",
    "        if current_number is not None:\n",
    "            if valid:\n",
    "                valids_on_line.append(int(current_number))\n",
    "            current_number = None\n",
    "            valid = False\n",
    "\n",
    "        print(line, valids_on_line)\n",
    "        valids.extend(valids_on_line)\n",
    "      \n",
    "    return valids\n",
    "\n",
    "valids = get_valid_numbers(lines)\n",
    "print(sum(valids))"
   ]
  },
  {
   "cell_type": "code",
   "execution_count": null,
   "metadata": {},
   "outputs": [],
   "source": []
  }
 ],
 "metadata": {
  "kernelspec": {
   "display_name": "Python 3",
   "language": "python",
   "name": "python3"
  },
  "language_info": {
   "codemirror_mode": {
    "name": "ipython",
    "version": 3
   },
   "file_extension": ".py",
   "mimetype": "text/x-python",
   "name": "python",
   "nbconvert_exporter": "python",
   "pygments_lexer": "ipython3",
   "version": "3.10.12"
  }
 },
 "nbformat": 4,
 "nbformat_minor": 2
}
