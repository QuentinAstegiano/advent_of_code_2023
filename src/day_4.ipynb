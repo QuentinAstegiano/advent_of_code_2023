{
 "cells": [
  {
   "cell_type": "code",
   "execution_count": null,
   "metadata": {},
   "outputs": [],
   "source": [
    "import pandas as pd\n",
    "\n",
    "df = pd.read_csv(\"../data/day_4__data.csv\",\n",
    "                 delimiter=\"|\",\n",
    "                 names=[\"id\", \"points\", \"card\"])\n",
    "\n",
    "df.head()"
   ]
  },
  {
   "cell_type": "code",
   "execution_count": null,
   "metadata": {},
   "outputs": [],
   "source": [
    "def get_matching_cards(points_cell, card_cell) -> list:\n",
    "    points = points_cell.strip().split(\" \")\n",
    "    points = set(filter(lambda x : len(x), points))\n",
    "    cards = card_cell.strip().split(\" \")\n",
    "    cards = (filter(lambda x : len(x), cards))\n",
    "\n",
    "    matching = []\n",
    "\n",
    "    for c in cards:\n",
    "        if c in points:\n",
    "            matching.append(c)\n",
    "    \n",
    "    return matching\n",
    "\n",
    "def get_card_score(matching) -> int:\n",
    "    score = 0\n",
    "    for c in matching:\n",
    "        if score == 0:\n",
    "            score = 1\n",
    "        else:\n",
    "            score *= 2\n",
    "\n",
    "    return score\n",
    "\n",
    "df[\"matching\"] = df.apply(lambda x : get_matching_cards(x[\"points\"], x[\"card\"]), axis=1)\n",
    "df[\"score\"] = df.apply(lambda x : get_card_score(x[\"matching\"]), axis=1)\n",
    "\n",
    "df.head(10)"
   ]
  },
  {
   "cell_type": "code",
   "execution_count": null,
   "metadata": {},
   "outputs": [],
   "source": [
    "print(df[\"score\"].sum())"
   ]
  },
  {
   "cell_type": "code",
   "execution_count": null,
   "metadata": {},
   "outputs": [],
   "source": [
    "df[\"nb_instance\"] = 1\n",
    "for i in range(len(df)):\n",
    "    nb_of_that_card = df.iloc[i][\"nb_instance\"] \n",
    "    matching_cards = df.iloc[i][\"matching\"]\n",
    "    for j in range(i + 1, i + 1 + len(matching_cards)):\n",
    "        current_instances = df.iloc[j][\"nb_instance\"] \n",
    "        df.loc[df.index == j, \"nb_instance\"] = current_instances + nb_of_that_card\n",
    "\n",
    "df.tail()"
   ]
  },
  {
   "cell_type": "code",
   "execution_count": null,
   "metadata": {},
   "outputs": [],
   "source": [
    "print(df[\"nb_instance\"].sum())"
   ]
  }
 ],
 "metadata": {
  "kernelspec": {
   "display_name": "Python 3",
   "language": "python",
   "name": "python3"
  },
  "language_info": {
   "codemirror_mode": {
    "name": "ipython",
    "version": 3
   },
   "file_extension": ".py",
   "mimetype": "text/x-python",
   "name": "python",
   "nbconvert_exporter": "python",
   "pygments_lexer": "ipython3",
   "version": "3.10.12"
  }
 },
 "nbformat": 4,
 "nbformat_minor": 2
}
